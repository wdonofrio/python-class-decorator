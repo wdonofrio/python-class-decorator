{
 "cells": [
  {
   "cell_type": "markdown",
   "metadata": {},
   "source": [
    "# A case study on Class Decorators"
   ]
  },
  {
   "cell_type": "markdown",
   "metadata": {},
   "source": [
    "## Classic Inheritance"
   ]
  },
  {
   "cell_type": "code",
   "execution_count": 130,
   "metadata": {},
   "outputs": [],
   "source": [
    "class MyParent():\n",
    "    def __init__(self):\n",
    "        print(\"MyParent:__init__\")\n",
    "\n",
    "    def __call__(self):\n",
    "        print(\"MyParent:__call__\")\n",
    "\n",
    "    def my_method(self):\n",
    "        print(\"MyParent:my_method\")\n",
    "\n",
    "    def my_parent_method(self):\n",
    "        print(\"MyParent:my_parent_method\")\n",
    "\n",
    "\n",
    "class MyChild(MyParent):\n",
    "    def __init__(self):\n",
    "        print(\"MyChild:__init__\")\n",
    "        MyParent.__init__(self)\n",
    "\n",
    "    def __call__(self):\n",
    "        print(\"MyChild:__call__\")\n",
    "\n",
    "    def my_method(self):\n",
    "        print(\"MyChild:my_method\")\n",
    "\n",
    "    def my_child_method(self):\n",
    "        print(\"MyChild:my_child_method\")"
   ]
  },
  {
   "cell_type": "code",
   "execution_count": 131,
   "metadata": {},
   "outputs": [
    {
     "name": "stdout",
     "output_type": "stream",
     "text": [
      "MyChild:__init__\n",
      "MyParent:__init__\n"
     ]
    }
   ],
   "source": [
    "obj = MyChild()"
   ]
  },
  {
   "cell_type": "markdown",
   "metadata": {},
   "source": [
    "Note how the classes are not initialized until called upon, and how MyParent is initialized with MyChild.\n",
    "Also note that `__call__` is not executed, this is because we only initialized the object."
   ]
  },
  {
   "cell_type": "code",
   "execution_count": 132,
   "metadata": {},
   "outputs": [
    {
     "name": "stdout",
     "output_type": "stream",
     "text": [
      "MyChild:my_method\n",
      "MyParent:my_parent_method\n",
      "MyChild:my_child_method\n"
     ]
    }
   ],
   "source": [
    "obj.my_method()\n",
    "obj.my_parent_method()\n",
    "obj.my_child_method()"
   ]
  },
  {
   "cell_type": "markdown",
   "metadata": {},
   "source": [
    "As expected from inheritance, `my_method` of `obj` was inherited by `MyParent` but overwritten by `MyChild`. The `my_parent_method` works as it was inherited, and `my_child_method` also works as it comes directly from `MyChild`."
   ]
  },
  {
   "cell_type": "markdown",
   "metadata": {},
   "source": [
    "## Class Decorator"
   ]
  },
  {
   "cell_type": "code",
   "execution_count": 133,
   "metadata": {},
   "outputs": [
    {
     "name": "stdout",
     "output_type": "stream",
     "text": [
      "MyParent:__init__\n"
     ]
    }
   ],
   "source": [
    "class MyParent():\n",
    "    def __init__(self, Child):\n",
    "        print(\"MyParent:__init__\")\n",
    "\n",
    "    def __call__(self):\n",
    "        print(\"MyParent:__call__\")\n",
    "\n",
    "    def my_method(self):\n",
    "        print(\"MyParent:my_method\")\n",
    "\n",
    "    def my_parent_method(self):\n",
    "        print(\"MyParent:my_parent_method\")\n",
    "\n",
    "@MyParent\n",
    "class MyChild(MyParent):\n",
    "    def __init__(self):\n",
    "        print(\"MyChild:__init__\")\n",
    "        MyParent.__init__(self)\n",
    "\n",
    "    def __call__(self):\n",
    "        print(\"MyChild:__call__\")\n",
    "\n",
    "    def my_method(self):\n",
    "        print(\"MyChild:my_method\")\n",
    "\n",
    "    def my_child_method(self):\n",
    "        print(\"MyChild:my_child_method\")"
   ]
  },
  {
   "cell_type": "code",
   "execution_count": 134,
   "metadata": {},
   "outputs": [
    {
     "name": "stdout",
     "output_type": "stream",
     "text": [
      "MyParent:__call__\n"
     ]
    }
   ],
   "source": [
    "obj = MyChild()"
   ]
  },
  {
   "cell_type": "markdown",
   "metadata": {},
   "source": [
    "As you may have noticed, `MyParent` is initialized right away, meaning a `MyParent` object is created when the decorator is executed.\n",
    "`MyChild` now runs the `__call___` from `MyParent`, and a `MyChild` is never initialized."
   ]
  },
  {
   "cell_type": "code",
   "execution_count": 135,
   "metadata": {},
   "outputs": [
    {
     "ename": "AttributeError",
     "evalue": "'NoneType' object has no attribute 'my_method'",
     "output_type": "error",
     "traceback": [
      "\u001b[0;31m---------------------------------------------------------------------------\u001b[0m",
      "\u001b[0;31mAttributeError\u001b[0m                            Traceback (most recent call last)",
      "Cell \u001b[0;32mIn[135], line 1\u001b[0m\n\u001b[0;32m----> 1\u001b[0m obj\u001b[39m.\u001b[39;49mmy_method()\n",
      "\u001b[0;31mAttributeError\u001b[0m: 'NoneType' object has no attribute 'my_method'"
     ]
    }
   ],
   "source": [
    "obj.my_method()"
   ]
  },
  {
   "cell_type": "markdown",
   "metadata": {},
   "source": [
    "Since nothing was initilized, the obj variable is not an object, due to the `__call__` returning `None`.  \n",
    "Therefore, none of our methods exist. Let's explore this further."
   ]
  },
  {
   "cell_type": "markdown",
   "metadata": {},
   "source": [
    "## Inverted Inheritance? (False Positive)"
   ]
  },
  {
   "cell_type": "code",
   "execution_count": null,
   "metadata": {},
   "outputs": [
    {
     "name": "stdout",
     "output_type": "stream",
     "text": [
      "MyParent:__init__\n"
     ]
    }
   ],
   "source": [
    "class MyParent():\n",
    "    def __init__(self, Child):\n",
    "        print(\"MyParent:__init__\")\n",
    "        self.child = Child\n",
    "\n",
    "    def __call__(self):\n",
    "        print(\"MyParent:__call__\")\n",
    "        self.child = self.child()\n",
    "        return self\n",
    "\n",
    "    def my_method(self):\n",
    "        print(\"MyParent:my_method\")\n",
    "\n",
    "    def my_parent_method(self):\n",
    "        print(\"MyParent:my_parent_method\")\n",
    "\n",
    "@MyParent\n",
    "class MyChild(MyParent):\n",
    "    def __init__(self):\n",
    "        print(\"MyChild:__init__\")\n",
    "\n",
    "    def __call__(self):\n",
    "        print(\"MyChild:__call__\")\n",
    "\n",
    "    def my_method(self):\n",
    "        print(\"MyChild:my_method\")\n",
    "\n",
    "    def my_child_method(self):\n",
    "        print(\"MyChild:my_child_method\")"
   ]
  },
  {
   "cell_type": "code",
   "execution_count": null,
   "metadata": {},
   "outputs": [
    {
     "name": "stdout",
     "output_type": "stream",
     "text": [
      "MyParent:__call__\n",
      "MyChild:__init__\n"
     ]
    }
   ],
   "source": [
    "obj = MyChild()"
   ]
  },
  {
   "cell_type": "code",
   "execution_count": null,
   "metadata": {},
   "outputs": [
    {
     "name": "stdout",
     "output_type": "stream",
     "text": [
      "MyParent:my_method\n",
      "MyParent:my_parent_method\n",
      "MyChild:my_child_method\n"
     ]
    },
    {
     "ename": "AttributeError",
     "evalue": "'MyParent' object has no attribute 'my_child_method'",
     "output_type": "error",
     "traceback": [
      "\u001b[0;31m---------------------------------------------------------------------------\u001b[0m",
      "\u001b[0;31mAttributeError\u001b[0m                            Traceback (most recent call last)",
      "Cell \u001b[0;32mIn[78], line 4\u001b[0m\n\u001b[1;32m      2\u001b[0m obj\u001b[39m.\u001b[39mmy_parent_method()\n\u001b[1;32m      3\u001b[0m obj\u001b[39m.\u001b[39mchild\u001b[39m.\u001b[39mmy_child_method()\n\u001b[0;32m----> 4\u001b[0m obj\u001b[39m.\u001b[39;49mmy_child_method()\n",
      "\u001b[0;31mAttributeError\u001b[0m: 'MyParent' object has no attribute 'my_child_method'"
     ]
    }
   ],
   "source": [
    "obj.my_method()\n",
    "obj.my_parent_method()\n",
    "obj.child.my_child_method()\n",
    "obj.my_child_method()"
   ]
  },
  {
   "cell_type": "markdown",
   "metadata": {},
   "source": [
    "While this may appear like we have reversed the inheritance, we actually simply nested our objects.  \n",
    "In this scenario, `MyClass` is initialized inside of `MyParent` but not inherited. In order to reach `MyClass` methods, the `child` object must be referenced."
   ]
  },
  {
   "cell_type": "markdown",
   "metadata": {},
   "source": [
    "## Inverted Inheritance"
   ]
  },
  {
   "cell_type": "code",
   "execution_count": null,
   "metadata": {},
   "outputs": [
    {
     "name": "stdout",
     "output_type": "stream",
     "text": [
      "main:redirect_inheritance\n"
     ]
    }
   ],
   "source": [
    "def redirect_inheritance(MyClass):\n",
    "    print(\"main:redirect_inheritance\")\n",
    "    class MyParent(MyClass):\n",
    "        def __init__(self):\n",
    "            print(\"MyParent:__init__\")\n",
    "            MyClass.__init__(self)\n",
    "\n",
    "        def my_method(self):\n",
    "            print(\"MyParent:my_method\")\n",
    "\n",
    "        def my_parent_method(self):\n",
    "            print(\"MyParent:my_parent_method\")\n",
    "    return MyParent # IMPORTANT: Return the class, NOT an object of the class\n",
    "\n",
    "@redirect_inheritance\n",
    "class MyChild(MyParent):\n",
    "    def __init__(self):\n",
    "        print(\"MyChild:__init__\")\n",
    "\n",
    "    def __call__(self):\n",
    "        print(\"MyChild:__call__\")\n",
    "\n",
    "    def my_method(self):\n",
    "        print(\"MyChild:my_method\")\n",
    "\n",
    "    def my_child_method(self):\n",
    "        print(\"MyChild:my_child_method\")"
   ]
  },
  {
   "cell_type": "code",
   "execution_count": null,
   "metadata": {},
   "outputs": [
    {
     "name": "stdout",
     "output_type": "stream",
     "text": [
      "MyParent:__init__\n",
      "MyChild:__init__\n"
     ]
    }
   ],
   "source": [
    "obj = MyChild()"
   ]
  },
  {
   "cell_type": "code",
   "execution_count": null,
   "metadata": {},
   "outputs": [
    {
     "name": "stdout",
     "output_type": "stream",
     "text": [
      "MyParent:my_method\n",
      "MyParent:my_parent_method\n",
      "MyChild:my_child_method\n"
     ]
    }
   ],
   "source": [
    "obj.my_method()\n",
    "obj.my_parent_method()\n",
    "obj.my_child_method()"
   ]
  },
  {
   "cell_type": "markdown",
   "metadata": {},
   "source": [
    "Let's look at what we've just done. When `MyChild` is called upon, it doesn't initialize `MyChild` first, but instead it initialized `MyParent`. Why?  \n",
    "Well the decorator redirects our call to `MyChild` into a function which takes the `MyChild` class as an argument. This can then be passed into `MyParent`, officially flipping the inheritance logic. We then define `MyParent` and return the `MyParent` class.\n",
    "\n",
    "As a result, the `MyParent` class is initialized first, followed by `MyChild`. Our methods behave as expected, inverted, where `my_method` is overwritten by `MyParent` now, and we still maintain individual methods like before."
   ]
  },
  {
   "cell_type": "markdown",
   "metadata": {},
   "source": [
    "## What is the value of this?\n",
    "\n",
    "It's fair to say that if you have full access to your code, there are seldom (if any) scenario where this is useful. However, let's play out a scenario where you may not have acces to code. For example, you rely on someone else's code, and you don't want to modify it."
   ]
  },
  {
   "cell_type": "code",
   "execution_count": null,
   "metadata": {},
   "outputs": [
    {
     "name": "stdout",
     "output_type": "stream",
     "text": [
      "TheirChild:__init__\n"
     ]
    }
   ],
   "source": [
    "# Cannot Modify\n",
    "class TheirParent:\n",
    "    def __init__(self):\n",
    "        print(\"TheirParent:__init__\")\n",
    "\n",
    "    def __call__(self):\n",
    "        print(\"TheirParent:__call__\")\n",
    "\n",
    "    def their_method(self):\n",
    "        print(\"TheirParent:my_method\")\n",
    "\n",
    "    def their_parent_method(self):\n",
    "        print(\"TheirParent:my_child_method\")\n",
    "\n",
    "# Can modify\n",
    "class TheirChild(TheirParent):\n",
    "    def __init__(self):\n",
    "        print(\"TheirChild:__init__\")\n",
    "\n",
    "    def __call__(self):\n",
    "        print(\"TheirChild:__call__\")\n",
    "\n",
    "    def their_method(self):\n",
    "        print(\"TheirChild:my_method\")\n",
    "\n",
    "    def their_child_method(self):\n",
    "        print(\"TheirChild:my_child_method\")\n",
    "\n",
    "# Cannot Modify\n",
    "obj = TheirChild()"
   ]
  },
  {
   "cell_type": "markdown",
   "metadata": {},
   "source": [
    "Imagine this is the code you're working with, but you want to interject with your own additions or modifications without completely undoing `TheirClass`. You may want to do this if `TheirClass` is in active development by another developer that is unaware of your presence.  \n",
    "How would you do it?\n",
    "\n",
    "- Add `MyClass` as a parent to `TheirChild`  \n",
    "This is limiting, since the inheritance is backwards and you cannot modify their existing methods, you ocan only append to `TheirClass`.\n",
    "\n",
    "- Modify the `class TheirChild` line with a different name, and add a new class with the original `TheirChild` name below the original, inheriting from it.  \n",
    "This would work, but you've now modified their code. What if `TheirChild` is modified (i.e. parameters are added), then a conflict occurs.\n",
    "\n",
    "- Invert the Inheritance (w/ decorators)\n",
    "This solutions is clean, as it only *adds* 1 line of code. Below is our final example."
   ]
  },
  {
   "cell_type": "code",
   "execution_count": null,
   "metadata": {},
   "outputs": [],
   "source": [
    "\n",
    "def redirect_inheritance(TheirChild):\n",
    "    print(\"main:redirect_inheritance\")\n",
    "    class MyParent(TheirChild):\n",
    "            def __init__(self):\n",
    "                print(\"MyParent:__init__\")\n",
    "                TheirChild.__init__(self)\n",
    "\n",
    "            def my_method(self):\n",
    "                print(\"MyParent:my_method\")\n",
    "\n",
    "            def my_parent_method(self):\n",
    "                print(\"MyParent:my_parent_method\")\n",
    "\n",
    "            def modify_their_child_variable(self):\n",
    "                self.their_child_variable = \"new\"\n",
    "\n",
    "    return MyParent\n"
   ]
  },
  {
   "cell_type": "code",
   "execution_count": null,
   "metadata": {},
   "outputs": [
    {
     "name": "stdout",
     "output_type": "stream",
     "text": [
      "main:redirect_inheritance\n",
      "MyParent:__init__\n",
      "TheirChild:__init__\n",
      "TheirParent:__init__\n"
     ]
    }
   ],
   "source": [
    "# Cannot Modify\n",
    "class TheirParent:\n",
    "    def __init__(self):\n",
    "        print(\"TheirParent:__init__\")\n",
    "        self.their_parent_variable = \"original\"\n",
    "\n",
    "    def __call__(self):\n",
    "        print(\"TheirParent:__call__\")\n",
    "\n",
    "    def their_method(self):\n",
    "        print(\"TheirParent:my_method\")\n",
    "\n",
    "    def their_parent_method(self):\n",
    "        print(\"TheirParent:my_child_method\")\n",
    "\n",
    "# Can modify\n",
    "@redirect_inheritance # Only line added/Modified\n",
    "class TheirChild(TheirParent):\n",
    "    def __init__(self):\n",
    "        print(\"TheirChild:__init__\")\n",
    "        super().__init__()\n",
    "        self.their_child_variable = \"original\"\n",
    "\n",
    "    def __call__(self):\n",
    "        print(\"TheirChild:__call__\")\n",
    "\n",
    "    def their_method(self):\n",
    "        print(\"TheirChild:my_method\")\n",
    "\n",
    "    def their_child_method(self):\n",
    "        print(\"TheirChild:my_child_method\")\n",
    "\n",
    "# Cannot Modify\n",
    "obj = TheirChild()"
   ]
  },
  {
   "cell_type": "code",
   "execution_count": null,
   "metadata": {},
   "outputs": [
    {
     "name": "stdout",
     "output_type": "stream",
     "text": [
      "TheirChild:my_method\n",
      "original\n",
      "original\n",
      "new\n"
     ]
    }
   ],
   "source": [
    "obj.their_method()\n",
    "print(obj.their_parent_variable)\n",
    "print(obj.their_child_variable)\n",
    "obj.modify_their_child_variable()\n",
    "print(obj.their_child_variable)"
   ]
  }
 ],
 "metadata": {
  "kernelspec": {
   "display_name": "python-class-decorator-7iiGvlGx-py3.10",
   "language": "python",
   "name": "python3"
  },
  "language_info": {
   "codemirror_mode": {
    "name": "ipython",
    "version": 3
   },
   "file_extension": ".py",
   "mimetype": "text/x-python",
   "name": "python",
   "nbconvert_exporter": "python",
   "pygments_lexer": "ipython3",
   "version": "3.10.8"
  },
  "orig_nbformat": 4
 },
 "nbformat": 4,
 "nbformat_minor": 2
}
